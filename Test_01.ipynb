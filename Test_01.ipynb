{
  "nbformat": 4,
  "nbformat_minor": 0,
  "metadata": {
    "colab": {
      "name": "Test_01.ipynb",
      "provenance": [],
      "collapsed_sections": [],
      "authorship_tag": "ABX9TyOXlPw+0f7a75/1ZO4BclqU",
      "include_colab_link": true
    },
    "kernelspec": {
      "name": "python3",
      "display_name": "Python 3"
    }
  },
  "cells": [
    {
      "cell_type": "markdown",
      "metadata": {
        "id": "view-in-github",
        "colab_type": "text"
      },
      "source": [
        "<a href=\"https://colab.research.google.com/github/ingefull-git/google_colab/blob/main/Test_01.ipynb\" target=\"_parent\"><img src=\"https://colab.research.google.com/assets/colab-badge.svg\" alt=\"Open In Colab\"/></a>"
      ]
    },
    {
      "cell_type": "code",
      "metadata": {
        "id": "_sNfXpqUw9hC"
      },
      "source": [
        "! pip install cssselect"
      ],
      "execution_count": null,
      "outputs": []
    },
    {
      "cell_type": "code",
      "metadata": {
        "id": "SaIYdUFMn8xb"
      },
      "source": [
        "import urllib.request\n",
        "from lxml import html\n",
        "import sys\n",
        "\n",
        "# if len(sys.argv) != 4:\n",
        "#   raise SystemExit('Usage: simple_webscraper.py term page_number per_page')\n",
        "\n",
        "# term = sys.argv[1]\n",
        "# page_number = sys.argv[2]\n",
        "# per_page = sys.argv[3]\n",
        "\n",
        "term = \"artificial intelligence\"\n",
        "page_number = 1\n",
        "per_page = 30\n",
        "\n",
        "\n",
        "u = urllib.request.urlopen('https://www.ted.com/search?page={}&per_page={}&q={}'.format(page_number, per_page, term.replace(\" \", \"+\")))\n",
        "data = u.read()\n",
        "\n",
        "doc = html.document_fromstring(data)\n",
        "\n",
        "for title in doc.cssselect(\"article.search__result h3 a\"):\n",
        "  print(title.text_content())\n"
      ],
      "execution_count": null,
      "outputs": []
    },
    {
      "cell_type": "code",
      "metadata": {
        "colab": {
          "base_uri": "https://localhost:8080/",
          "height": 17
        },
        "id": "MJT-1WpYoATq",
        "outputId": "6f1ff5c1-5d57-4a79-811f-86c8cda9a8d6"
      },
      "source": [
        "import sys\n",
        "from google.colab import files\n",
        "\n",
        "# with open('example.txt', 'w') as f:\n",
        "#   f.write('some content')\n",
        "\n",
        "# files.download('example.txt')\n",
        "\n",
        "principal = 1000\n",
        "rate = 7.5\n",
        "time = 10\n",
        "\n",
        "interest = 0.0\n",
        "loan_at_start = principal\n",
        "loan_at_end = principal\n",
        "\n",
        "out = open(\"loan_details.txt\", \"w\")\n",
        "\n",
        "for year in range(time):\n",
        "  loan_at_start = loan_at_end\n",
        "  interest = loan_at_end * (rate/100)\n",
        "  loan_at_end += interest\n",
        "  print(\"Year: {:<10.0f}\\t Initial: ${:<10.2f}\\t Interest: ${:<10.2f}\\t and money have to pay: ${:<10.2f}\".format(year, loan_at_start, interest, loan_at_end), file=out)\n",
        "\n",
        "out.close()\n",
        "\n",
        "files.download(\"loan_details.txt\")\n"
      ],
      "execution_count": 9,
      "outputs": [
        {
          "output_type": "display_data",
          "data": {
            "application/javascript": [
              "\n",
              "    async function download(id, filename, size) {\n",
              "      if (!google.colab.kernel.accessAllowed) {\n",
              "        return;\n",
              "      }\n",
              "      const div = document.createElement('div');\n",
              "      const label = document.createElement('label');\n",
              "      label.textContent = `Downloading \"${filename}\": `;\n",
              "      div.appendChild(label);\n",
              "      const progress = document.createElement('progress');\n",
              "      progress.max = size;\n",
              "      div.appendChild(progress);\n",
              "      document.body.appendChild(div);\n",
              "\n",
              "      const buffers = [];\n",
              "      let downloaded = 0;\n",
              "\n",
              "      const channel = await google.colab.kernel.comms.open(id);\n",
              "      // Send a message to notify the kernel that we're ready.\n",
              "      channel.send({})\n",
              "\n",
              "      for await (const message of channel.messages) {\n",
              "        // Send a message to notify the kernel that we're ready.\n",
              "        channel.send({})\n",
              "        if (message.buffers) {\n",
              "          for (const buffer of message.buffers) {\n",
              "            buffers.push(buffer);\n",
              "            downloaded += buffer.byteLength;\n",
              "            progress.value = downloaded;\n",
              "          }\n",
              "        }\n",
              "      }\n",
              "      const blob = new Blob(buffers, {type: 'application/binary'});\n",
              "      const a = document.createElement('a');\n",
              "      a.href = window.URL.createObjectURL(blob);\n",
              "      a.download = filename;\n",
              "      div.appendChild(a);\n",
              "      a.click();\n",
              "      div.remove();\n",
              "    }\n",
              "  "
            ],
            "text/plain": [
              "<IPython.core.display.Javascript object>"
            ]
          },
          "metadata": {
            "tags": []
          }
        },
        {
          "output_type": "display_data",
          "data": {
            "application/javascript": [
              "download(\"download_6c3bfc8a-45f1-4c15-99f1-5e4e18b3f4dd\", \"loan_details.txt\", 980)"
            ],
            "text/plain": [
              "<IPython.core.display.Javascript object>"
            ]
          },
          "metadata": {
            "tags": []
          }
        }
      ]
    },
    {
      "cell_type": "code",
      "metadata": {
        "colab": {
          "resources": {
            "http://localhost:8080/nbextensions/google.colab/files.js": {
              "data": "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",
              "ok": true,
              "headers": [
                [
                  "content-type",
                  "application/javascript"
                ]
              ],
              "status": 200,
              "status_text": ""
            }
          },
          "base_uri": "https://localhost:8080/",
          "height": 55
        },
        "id": "p8NpA0luqyu9",
        "outputId": "9b29ca70-dda3-4b08-f33e-ee3a3b2339a4"
      },
      "source": [
        "from google.colab import files\n",
        "\n",
        "files.upload()\n",
        "\n",
        "\n"
      ],
      "execution_count": 76,
      "outputs": [
        {
          "output_type": "display_data",
          "data": {
            "text/html": [
              "\n",
              "     <input type=\"file\" id=\"files-846672f7-f070-4602-8352-492554f7c296\" name=\"files[]\" multiple disabled\n",
              "        style=\"border:none\" />\n",
              "     <output id=\"result-846672f7-f070-4602-8352-492554f7c296\">\n",
              "      Upload widget is only available when the cell has been executed in the\n",
              "      current browser session. Please rerun this cell to enable.\n",
              "      </output>\n",
              "      <script src=\"/nbextensions/google.colab/files.js\"></script> "
            ],
            "text/plain": [
              "<IPython.core.display.HTML object>"
            ]
          },
          "metadata": {
            "tags": []
          }
        },
        {
          "output_type": "execute_result",
          "data": {
            "text/plain": [
              "{}"
            ]
          },
          "metadata": {
            "tags": []
          },
          "execution_count": 76
        }
      ]
    },
    {
      "cell_type": "code",
      "metadata": {
        "colab": {
          "base_uri": "https://localhost:8080/"
        },
        "id": "Wh6r_NCN3RbJ",
        "outputId": "2a45a1b0-eb45-4149-8197-e4491516c904"
      },
      "source": [
        "# files.view(\"pet_data (1).csv\")\n",
        "total_edades = 0\n",
        "total_items = 0\n",
        "\n",
        "with open(\"pet_data (1).csv\") as f:\n",
        "  header = next(f)\n",
        "  for i, line in enumerate(f):\n",
        "    line = line.strip()\n",
        "    parts = line.split('\"')\n",
        "    for p, c in enumerate(parts):\n",
        "    #   if p == 0 or p == 2:\n",
        "        # c = c.split(',')\n",
        "        # if '' in c:\n",
        "          # c.remove('')\n",
        "        # parts.append(c)\n",
        "      # if p == 1:\n",
        "        # parts.append(c)  \n",
        "      print(p, c)\n",
        "    print(\"Linea: \",i, parts)"
      ],
      "execution_count": 94,
      "outputs": [
        {
          "output_type": "stream",
          "text": [
            "0 Pepe,Reggie Tupp,Rabbit,Cinnamon rabbit,Six-month-old Pepe is very active and is always keeping us on our toes.,M,0,11/28/2016 13:30,\n",
            "Linea:  0 ['Pepe,Reggie Tupp,Rabbit,Cinnamon rabbit,Six-month-old Pepe is very active and is always keeping us on our toes.,M,0,11/28/2016 13:30,']\n",
            "0 Scooter,Zachary Heilyn,Hedgehog,White-bellied,You have to keep an eye on Scooter because he will climb walls to escape his habitat.,M,2,11/28/2016 14:45,\n",
            "Linea:  1 ['Scooter,Zachary Heilyn,Hedgehog,White-bellied,You have to keep an eye on Scooter because he will climb walls to escape his habitat.,M,2,11/28/2016 14:45,']\n",
            "0 Zera,Austin Finnagan,Iguana,Cayman brac iguana,\n",
            "1 This iguana is on the endangered species list, and is thriving well\n",
            "2 ,F,3,11/29/2016 13:15,\n",
            "Linea:  2 ['Zera,Austin Finnagan,Iguana,Cayman brac iguana,', 'This iguana is on the endangered species list, and is thriving well', ',F,3,11/29/2016 13:15,']\n",
            "0 Oddball,Howie Cadell,Guinea pig,American guinea pig,Oddball was the runt of his litter and has some breathing problems but is thriving well.,M,1,11/29/2016 10:00,\n",
            "Linea:  3 ['Oddball,Howie Cadell,Guinea pig,American guinea pig,Oddball was the runt of his litter and has some breathing problems but is thriving well.,M,1,11/29/2016 10:00,']\n",
            "0 Chyna,Sandie Gobnet,Turtle,Terrapin,Chyna got her name because she’s a gentle 13-year-old turtle with a tough shell.,F,13,11/29/2016 14:30,\n",
            "Linea:  4 ['Chyna,Sandie Gobnet,Turtle,Terrapin,Chyna got her name because she’s a gentle 13-year-old turtle with a tough shell.,F,13,11/29/2016 14:30,']\n",
            "0 Rio,Philip Ransu,Dog,French bulldog,\n",
            "1 Rio, the 5-year-old bulldog, loves to play ball with his best dog friend, Rudy.\n",
            "2 ,M,5,11/28/2016 10:15,Canine Parvo| Canine Distemper| Canine Rabies| Canine Leptospira\n",
            "Linea:  5 ['Rio,Philip Ransu,Dog,French bulldog,', 'Rio, the 5-year-old bulldog, loves to play ball with his best dog friend, Rudy.', ',M,5,11/28/2016 10:15,Canine Parvo| Canine Distemper| Canine Rabies| Canine Leptospira']\n",
            "0 Nadalee,Krystle Valerija,Dog,Chihuahua,\n",
            "1 Nadalee is a 7-year-old long hair Chihuahua with a very pleasant, laid back, temperament.\n",
            "2 ,F,7,11/28/2016 16:00,Canine Parvo| Canine Distemper| Canine Rabies| Canine Leptospira\n",
            "Linea:  6 ['Nadalee,Krystle Valerija,Dog,Chihuahua,', 'Nadalee is a 7-year-old long hair Chihuahua with a very pleasant, laid back, temperament.', ',F,7,11/28/2016 16:00,Canine Parvo| Canine Distemper| Canine Rabies| Canine Leptospira']\n",
            "0 Scout,Nicolette Bardeau,Dog,Jack Russell terrier,Scout suffers from separation anxiety from his former owner but finds comfort in his crate with his favorite toy.,M,5,11/28/2016 09:00,Canine Parvo| Canine Distemper| Canine Rabies| Canine Leptospira\n",
            "Linea:  7 ['Scout,Nicolette Bardeau,Dog,Jack Russell terrier,Scout suffers from separation anxiety from his former owner but finds comfort in his crate with his favorite toy.,M,5,11/28/2016 09:00,Canine Parvo| Canine Distemper| Canine Rabies| Canine Leptospira']\n",
            "0 Wesley,Nathan Cayden,Dog,Mixed breed,\n",
            "1 At 8 years old there isn’t anything Wesley can’t do, he’s very healthy and full of energy!\n",
            "2 ,M,8,11/29/2016 16:00,Canine Parvo| Canine Distemper| Canine Rabies| Canine Leptospira\n",
            "Linea:  8 ['Wesley,Nathan Cayden,Dog,Mixed breed,', 'At 8 years old there isn’t anything Wesley can’t do, he’s very healthy and full of energy!', ',M,8,11/29/2016 16:00,Canine Parvo| Canine Distemper| Canine Rabies| Canine Leptospira']\n",
            "0 Pax,Sarah Greer,Dog,Mixed breed,\n",
            "1 Pax is a senior dog and is suffering from arthritic conditions, but doing well for his age.\n",
            "2 ,M,8,11/29/2016 08:30,Canine Parvo| Canine Distemper| Canine Rabies| Canine Leptospira\n",
            "Linea:  9 ['Pax,Sarah Greer,Dog,Mixed breed,', 'Pax is a senior dog and is suffering from arthritic conditions, but doing well for his age.', ',M,8,11/29/2016 08:30,Canine Parvo| Canine Distemper| Canine Rabies| Canine Leptospira']\n",
            "0 Sami,Maggie Rickland,Dog,Dalmation,Sami is a very happy go lucky 1-year-old Dalmatian that loves to play.,M,1,12/1/2016 13:00,Canine Parvo| Canine Distemper| Canine Rabies| Canine Leptospira\n",
            "Linea:  10 ['Sami,Maggie Rickland,Dog,Dalmation,Sami is a very happy go lucky 1-year-old Dalmatian that loves to play.,M,1,12/1/2016 13:00,Canine Parvo| Canine Distemper| Canine Rabies| Canine Leptospira']\n",
            "0 Casper,Dalania Devitto,Dog,Bichon frise,\n",
            "1 Four-year-old Casper was rescued from a breeder when he was 2, and his owner takes great care in giving him a good life.\n",
            "2 ,M,3,12/1/2016 11:30,Canine Parvo| Canine Distemper| Canine Rabies| Canine Leptospira\n",
            "Linea:  11 ['Casper,Dalania Devitto,Dog,Bichon frise,', 'Four-year-old Casper was rescued from a breeder when he was 2, and his owner takes great care in giving him a good life.', ',M,3,12/1/2016 11:30,Canine Parvo| Canine Distemper| Canine Rabies| Canine Leptospira']\n",
            "0 Tibbs,Shad Cayden,Dog,Dachshund,Tibbs suffers from a spinal condition that can cause immobilization and his owner has to watch his activity levels.,M,10,12/1/2016 8:45,Canine Parvo| Canine Distemper| Canine Rabies| Canine Leptospira\n",
            "Linea:  12 ['Tibbs,Shad Cayden,Dog,Dachshund,Tibbs suffers from a spinal condition that can cause immobilization and his owner has to watch his activity levels.,M,10,12/1/2016 8:45,Canine Parvo| Canine Distemper| Canine Rabies| Canine Leptospira']\n",
            "0 Stich,Dennis Nicholback,Dog,English pointer,Four-year-old Stich was born with a birth defect that required surgery at 6 weeks of age.,M,4,12/2/2016 13:30,Canine Parvo| Canine Distemper| Canine Rabies| Canine Leptospira\n",
            "Linea:  13 ['Stich,Dennis Nicholback,Dog,English pointer,Four-year-old Stich was born with a birth defect that required surgery at 6 weeks of age.,M,4,12/2/2016 13:30,Canine Parvo| Canine Distemper| Canine Rabies| Canine Leptospira']\n",
            "0 Fluffy,Tracy Westbay,Cat,Domestic longhair,\n",
            "1 Fluffy is a very fluffy 3-year-old cat, who loves watching cat videos and trying to recreate them.\n",
            "2 ,F,3,11/29/2016 11:45,Feline Herpes Virus 1| Feline Rabies| Feline Leukemia\n",
            "Linea:  14 ['Fluffy,Tracy Westbay,Cat,Domestic longhair,', 'Fluffy is a very fluffy 3-year-old cat, who loves watching cat videos and trying to recreate them.', ',F,3,11/29/2016 11:45,Feline Herpes Virus 1| Feline Rabies| Feline Leukemia']\n",
            "0 Squiggles,Madisyn Roope,Cat,Orange tabby cat,\n",
            "1 Squiggles was a feral rescue that is now kept as an indoor/outdoor cat, but prefers to be outside.\n",
            "2 ,F,5,11/30/2016 10:15,Feline Herpes Virus 1| Feline Rabies| Feline Leukemia\n",
            "Linea:  15 ['Squiggles,Madisyn Roope,Cat,Orange tabby cat,', 'Squiggles was a feral rescue that is now kept as an indoor/outdoor cat, but prefers to be outside.', ',F,5,11/30/2016 10:15,Feline Herpes Virus 1| Feline Rabies| Feline Leukemia']\n",
            "0 Lucky,Lisa Choy-Wu,Cat,Tortoiseshell cat,\n",
            "1 One-year-old Lucky suffers from a rare heart condition, but has been able to live a relatively normal life.\n",
            "2 ,M,1,11/30/2016 11:30,Feline Herpes Virus 1| Feline Rabies| Feline Leukemia\n",
            "Linea:  16 ['Lucky,Lisa Choy-Wu,Cat,Tortoiseshell cat,', 'One-year-old Lucky suffers from a rare heart condition, but has been able to live a relatively normal life.', ',M,1,11/30/2016 11:30,Feline Herpes Virus 1| Feline Rabies| Feline Leukemia']\n",
            "0 Bailey,Leslie Richardson,Cat,Persian,Bailey is a 3-year-old female Persian cat that was adopted by her owner as a baby.,F,3,11/30/2016 14:30,Feline Herpes Virus 1| Feline Rabies| Feline Leukemia\n",
            "Linea:  17 ['Bailey,Leslie Richardson,Cat,Persian,Bailey is a 3-year-old female Persian cat that was adopted by her owner as a baby.,F,3,11/30/2016 14:30,Feline Herpes Virus 1| Feline Rabies| Feline Leukemia']\n",
            "0 Kiko,Kathlyn Zlata,Cat,Tabby cat,Kiko is a very shy 8-year-old cat that was found as a baby under a refrigerator by her mommy.,F,8,11/30/2016 15:45,Feline Herpes Virus 1| Feline Rabies| Feline Leukemia\n",
            "Linea:  18 ['Kiko,Kathlyn Zlata,Cat,Tabby cat,Kiko is a very shy 8-year-old cat that was found as a baby under a refrigerator by her mommy.,F,8,11/30/2016 15:45,Feline Herpes Virus 1| Feline Rabies| Feline Leukemia']\n",
            "0 Shadow,Audry Topsy,Cat,Bombay,Shadow is a 5-year-old cat that gains weight very easily and has to be kept on a special diet.,F,5,12/2/2016 10:15,Feline Herpes Virus 1| Feline Rabies| Feline Leukemia\n",
            "Linea:  19 ['Shadow,Audry Topsy,Cat,Bombay,Shadow is a 5-year-old cat that gains weight very easily and has to be kept on a special diet.,F,5,12/2/2016 10:15,Feline Herpes Virus 1| Feline Rabies| Feline Leukemia']\n",
            "0 Felix,Francine Benet,Iguana,Green iguana,Felix is a sly little 6-year-old iguana that is always getting into trouble and keeps his mom on her toes.,M,6,11/30/2016 9:00,\n",
            "Linea:  20 ['Felix,Francine Benet,Iguana,Green iguana,Felix is a sly little 6-year-old iguana that is always getting into trouble and keeps his mom on her toes.,M,6,11/30/2016 9:00,']\n",
            "0 Cosmo,Jennifer Dawson,Bird,Parrot,\n",
            "1 Cosmo is possibly the happiest parrot that lived, and loves to sing Happy Birthday to anyone that will listen.\n",
            "2 ,M,8,12/1/2016 10:00,\n",
            "Linea:  21 ['Cosmo,Jennifer Dawson,Bird,Parrot,', 'Cosmo is possibly the happiest parrot that lived, and loves to sing Happy Birthday to anyone that will listen.', ',M,8,12/1/2016 10:00,']\n",
            "0 Chip,Jason Hemlock,Fish,Cichild,Chip is a vivacious 5-year-old African Cichlid with a bit of a temper towards other fish.,M,5,12/1/2016 15:15,\n",
            "Linea:  22 ['Chip,Jason Hemlock,Fish,Cichild,Chip is a vivacious 5-year-old African Cichlid with a bit of a temper towards other fish.,M,5,12/1/2016 15:15,']\n",
            "0 Nugget,Darla Branson,Hamster,Golden hamster,Nugget’s got his name because his owner’s daughter though he looked like a golden nugget when he was a baby.,M,6,12/2/2016 15:00,\n",
            "Linea:  23 ['Nugget,Darla Branson,Hamster,Golden hamster,Nugget’s got his name because his owner’s daughter though he looked like a golden nugget when he was a baby.,M,6,12/2/2016 15:00,']\n"
          ],
          "name": "stdout"
        }
      ]
    }
  ]
}